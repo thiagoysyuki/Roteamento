{
 "cells": [
  {
   "cell_type": "code",
   "execution_count": 167,
   "metadata": {},
   "outputs": [],
   "source": [
    "import pandas as pd\n",
    "import seaborn\n",
    "import numpy as np\n",
    "from pulp import *"
   ]
  },
  {
   "cell_type": "code",
   "execution_count": 168,
   "metadata": {},
   "outputs": [],
   "source": [
    "# Dados de entrada\n",
    "\n",
    "custo = pd.read_excel(\"../Dados/Rotas.xlsx\",sheet_name=\"custo_hora\")\n",
    "\n",
    "custo.set_index('Unidade', inplace=True)\n"
   ]
  },
  {
   "cell_type": "code",
   "execution_count": 169,
   "metadata": {},
   "outputs": [
    {
     "data": {
      "text/plain": [
       "matrix([[9.99e+02, 2.00e-01, 2.50e-01, 1.75e+00, 2.17e+00, 2.02e+00,\n",
       "         1.93e+00],\n",
       "        [1.80e-01, 9.99e+02, 1.20e-01, 1.43e+00, 2.10e+00, 1.97e+00,\n",
       "         1.47e+00],\n",
       "        [2.00e-01, 1.20e-01, 9.99e+02, 1.67e+00, 2.02e+00, 1.90e+00,\n",
       "         1.72e+00],\n",
       "        [1.50e+00, 1.43e+00, 1.85e+00, 9.99e+02, 1.67e+00, 1.45e+00,\n",
       "         8.30e-01],\n",
       "        [2.20e+00, 2.07e+00, 2.12e+00, 1.68e+00, 9.99e+02, 1.25e+00,\n",
       "         1.92e+00],\n",
       "        [2.07e+00, 1.93e+00, 1.90e+00, 1.38e+00, 1.48e+00, 9.99e+02,\n",
       "         1.87e+00],\n",
       "        [1.90e+00, 1.77e+00, 1.60e+00, 1.15e+00, 1.10e+00, 2.00e+00,\n",
       "         9.99e+02]])"
      ]
     },
     "execution_count": 169,
     "metadata": {},
     "output_type": "execute_result"
    }
   ],
   "source": [
    "custo_matriz= np.matrix(custo)\n",
    "\n",
    "n = len(custo)\n",
    "\n",
    "custo_matriz"
   ]
  },
  {
   "cell_type": "code",
   "execution_count": 170,
   "metadata": {},
   "outputs": [
    {
     "name": "stdout",
     "output_type": "stream",
     "text": [
      "[(0, 1), (0, 2), (0, 3), (0, 4), (0, 5), (0, 6), (1, 0), (1, 2), (1, 3), (1, 4), (1, 5), (1, 6), (2, 0), (2, 1), (2, 3), (2, 4), (2, 5), (2, 6), (3, 0), (3, 1), (3, 2), (3, 4), (3, 5), (3, 6), (4, 0), (4, 1), (4, 2), (4, 3), (4, 5), (4, 6), (5, 0), (5, 1), (5, 2), (5, 3), (5, 4), (5, 6), (6, 0), (6, 1), (6, 2), (6, 3), (6, 4), (6, 5)]\n"
     ]
    }
   ],
   "source": [
    "arcos = [(i,j) for i in range(n) for j in range(n) if custo_matriz[i,j] != 999]\n",
    "\n",
    "print(arcos)"
   ]
  },
  {
   "cell_type": "code",
   "execution_count": 171,
   "metadata": {},
   "outputs": [],
   "source": [
    "tsp = LpProblem(\"RoteiroMalote\", sense= LpMinimize)"
   ]
  },
  {
   "cell_type": "code",
   "execution_count": 172,
   "metadata": {},
   "outputs": [
    {
     "name": "stdout",
     "output_type": "stream",
     "text": [
      "{(0, 1): x_(0,_1), (0, 2): x_(0,_2), (0, 3): x_(0,_3), (0, 4): x_(0,_4), (0, 5): x_(0,_5), (0, 6): x_(0,_6), (1, 0): x_(1,_0), (1, 2): x_(1,_2), (1, 3): x_(1,_3), (1, 4): x_(1,_4), (1, 5): x_(1,_5), (1, 6): x_(1,_6), (2, 0): x_(2,_0), (2, 1): x_(2,_1), (2, 3): x_(2,_3), (2, 4): x_(2,_4), (2, 5): x_(2,_5), (2, 6): x_(2,_6), (3, 0): x_(3,_0), (3, 1): x_(3,_1), (3, 2): x_(3,_2), (3, 4): x_(3,_4), (3, 5): x_(3,_5), (3, 6): x_(3,_6), (4, 0): x_(4,_0), (4, 1): x_(4,_1), (4, 2): x_(4,_2), (4, 3): x_(4,_3), (4, 5): x_(4,_5), (4, 6): x_(4,_6), (5, 0): x_(5,_0), (5, 1): x_(5,_1), (5, 2): x_(5,_2), (5, 3): x_(5,_3), (5, 4): x_(5,_4), (5, 6): x_(5,_6), (6, 0): x_(6,_0), (6, 1): x_(6,_1), (6, 2): x_(6,_2), (6, 3): x_(6,_3), (6, 4): x_(6,_4), (6, 5): x_(6,_5)}\n"
     ]
    }
   ],
   "source": [
    "x = LpVariable.dicts(\"x\",arcos, cat=\"Binary\")\n",
    "print(x)\n"
   ]
  },
  {
   "cell_type": "code",
   "execution_count": 173,
   "metadata": {},
   "outputs": [
    {
     "name": "stdout",
     "output_type": "stream",
     "text": [
      "{0: u_0, 1: u_1, 2: u_2, 3: u_3, 4: u_4, 5: u_5, 6: u_6}\n"
     ]
    }
   ],
   "source": [
    "u = LpVariable.dicts(\"u\", [i for i in range(n)], lowBound=1, upBound=n, cat=\"Continuous\")\n",
    "print(u)"
   ]
  },
  {
   "cell_type": "code",
   "execution_count": 174,
   "metadata": {},
   "outputs": [
    {
     "name": "stdout",
     "output_type": "stream",
     "text": [
      "RoteiroMalote:\n",
      "MINIMIZE\n",
      "0.2*x_(0,_1) + 0.25*x_(0,_2) + 1.75*x_(0,_3) + 2.17*x_(0,_4) + 2.02*x_(0,_5) + 1.93*x_(0,_6) + 0.18*x_(1,_0) + 0.12*x_(1,_2) + 1.43*x_(1,_3) + 2.1*x_(1,_4) + 1.97*x_(1,_5) + 1.47*x_(1,_6) + 0.2*x_(2,_0) + 0.12*x_(2,_1) + 1.67*x_(2,_3) + 2.02*x_(2,_4) + 1.9*x_(2,_5) + 1.72*x_(2,_6) + 1.5*x_(3,_0) + 1.43*x_(3,_1) + 1.85*x_(3,_2) + 1.67*x_(3,_4) + 1.45*x_(3,_5) + 0.83*x_(3,_6) + 2.2*x_(4,_0) + 2.07*x_(4,_1) + 2.12*x_(4,_2) + 1.68*x_(4,_3) + 1.25*x_(4,_5) + 1.92*x_(4,_6) + 2.07*x_(5,_0) + 1.93*x_(5,_1) + 1.9*x_(5,_2) + 1.38*x_(5,_3) + 1.48*x_(5,_4) + 1.87*x_(5,_6) + 1.9*x_(6,_0) + 1.77*x_(6,_1) + 1.6*x_(6,_2) + 1.15*x_(6,_3) + 1.1*x_(6,_4) + 2.0*x_(6,_5) + 0.0\n",
      "VARIABLES\n",
      "0 <= x_(0,_1) <= 1 Integer\n",
      "0 <= x_(0,_2) <= 1 Integer\n",
      "0 <= x_(0,_3) <= 1 Integer\n",
      "0 <= x_(0,_4) <= 1 Integer\n",
      "0 <= x_(0,_5) <= 1 Integer\n",
      "0 <= x_(0,_6) <= 1 Integer\n",
      "0 <= x_(1,_0) <= 1 Integer\n",
      "0 <= x_(1,_2) <= 1 Integer\n",
      "0 <= x_(1,_3) <= 1 Integer\n",
      "0 <= x_(1,_4) <= 1 Integer\n",
      "0 <= x_(1,_5) <= 1 Integer\n",
      "0 <= x_(1,_6) <= 1 Integer\n",
      "0 <= x_(2,_0) <= 1 Integer\n",
      "0 <= x_(2,_1) <= 1 Integer\n",
      "0 <= x_(2,_3) <= 1 Integer\n",
      "0 <= x_(2,_4) <= 1 Integer\n",
      "0 <= x_(2,_5) <= 1 Integer\n",
      "0 <= x_(2,_6) <= 1 Integer\n",
      "0 <= x_(3,_0) <= 1 Integer\n",
      "0 <= x_(3,_1) <= 1 Integer\n",
      "0 <= x_(3,_2) <= 1 Integer\n",
      "0 <= x_(3,_4) <= 1 Integer\n",
      "0 <= x_(3,_5) <= 1 Integer\n",
      "0 <= x_(3,_6) <= 1 Integer\n",
      "0 <= x_(4,_0) <= 1 Integer\n",
      "0 <= x_(4,_1) <= 1 Integer\n",
      "0 <= x_(4,_2) <= 1 Integer\n",
      "0 <= x_(4,_3) <= 1 Integer\n",
      "0 <= x_(4,_5) <= 1 Integer\n",
      "0 <= x_(4,_6) <= 1 Integer\n",
      "0 <= x_(5,_0) <= 1 Integer\n",
      "0 <= x_(5,_1) <= 1 Integer\n",
      "0 <= x_(5,_2) <= 1 Integer\n",
      "0 <= x_(5,_3) <= 1 Integer\n",
      "0 <= x_(5,_4) <= 1 Integer\n",
      "0 <= x_(5,_6) <= 1 Integer\n",
      "0 <= x_(6,_0) <= 1 Integer\n",
      "0 <= x_(6,_1) <= 1 Integer\n",
      "0 <= x_(6,_2) <= 1 Integer\n",
      "0 <= x_(6,_3) <= 1 Integer\n",
      "0 <= x_(6,_4) <= 1 Integer\n",
      "0 <= x_(6,_5) <= 1 Integer\n",
      "\n"
     ]
    }
   ],
   "source": [
    "tsp += lpSum([custo_matriz[i,j] * x[i,j] for (i,j) in arcos])\n",
    "print(tsp)"
   ]
  },
  {
   "cell_type": "code",
   "execution_count": 175,
   "metadata": {},
   "outputs": [
    {
     "name": "stdout",
     "output_type": "stream",
     "text": [
      "RoteiroMalote:\n",
      "MINIMIZE\n",
      "0.2*x_(0,_1) + 0.25*x_(0,_2) + 1.75*x_(0,_3) + 2.17*x_(0,_4) + 2.02*x_(0,_5) + 1.93*x_(0,_6) + 0.18*x_(1,_0) + 0.12*x_(1,_2) + 1.43*x_(1,_3) + 2.1*x_(1,_4) + 1.97*x_(1,_5) + 1.47*x_(1,_6) + 0.2*x_(2,_0) + 0.12*x_(2,_1) + 1.67*x_(2,_3) + 2.02*x_(2,_4) + 1.9*x_(2,_5) + 1.72*x_(2,_6) + 1.5*x_(3,_0) + 1.43*x_(3,_1) + 1.85*x_(3,_2) + 1.67*x_(3,_4) + 1.45*x_(3,_5) + 0.83*x_(3,_6) + 2.2*x_(4,_0) + 2.07*x_(4,_1) + 2.12*x_(4,_2) + 1.68*x_(4,_3) + 1.25*x_(4,_5) + 1.92*x_(4,_6) + 2.07*x_(5,_0) + 1.93*x_(5,_1) + 1.9*x_(5,_2) + 1.38*x_(5,_3) + 1.48*x_(5,_4) + 1.87*x_(5,_6) + 1.9*x_(6,_0) + 1.77*x_(6,_1) + 1.6*x_(6,_2) + 1.15*x_(6,_3) + 1.1*x_(6,_4) + 2.0*x_(6,_5) + 0.0\n",
      "SUBJECT TO\n",
      "_C1: x_(1,_0) + x_(2,_0) + x_(3,_0) + x_(4,_0) + x_(5,_0) + x_(6,_0) = 1\n",
      "\n",
      "_C2: x_(0,_1) + x_(2,_1) + x_(3,_1) + x_(4,_1) + x_(5,_1) + x_(6,_1) = 1\n",
      "\n",
      "_C3: x_(0,_2) + x_(1,_2) + x_(3,_2) + x_(4,_2) + x_(5,_2) + x_(6,_2) = 1\n",
      "\n",
      "_C4: x_(0,_3) + x_(1,_3) + x_(2,_3) + x_(4,_3) + x_(5,_3) + x_(6,_3) = 1\n",
      "\n",
      "_C5: x_(0,_4) + x_(1,_4) + x_(2,_4) + x_(3,_4) + x_(5,_4) + x_(6,_4) = 1\n",
      "\n",
      "_C6: x_(0,_5) + x_(1,_5) + x_(2,_5) + x_(3,_5) + x_(4,_5) + x_(6,_5) = 1\n",
      "\n",
      "_C7: x_(0,_6) + x_(1,_6) + x_(2,_6) + x_(3,_6) + x_(4,_6) + x_(5,_6) = 1\n",
      "\n",
      "VARIABLES\n",
      "0 <= x_(0,_1) <= 1 Integer\n",
      "0 <= x_(0,_2) <= 1 Integer\n",
      "0 <= x_(0,_3) <= 1 Integer\n",
      "0 <= x_(0,_4) <= 1 Integer\n",
      "0 <= x_(0,_5) <= 1 Integer\n",
      "0 <= x_(0,_6) <= 1 Integer\n",
      "0 <= x_(1,_0) <= 1 Integer\n",
      "0 <= x_(1,_2) <= 1 Integer\n",
      "0 <= x_(1,_3) <= 1 Integer\n",
      "0 <= x_(1,_4) <= 1 Integer\n",
      "0 <= x_(1,_5) <= 1 Integer\n",
      "0 <= x_(1,_6) <= 1 Integer\n",
      "0 <= x_(2,_0) <= 1 Integer\n",
      "0 <= x_(2,_1) <= 1 Integer\n",
      "0 <= x_(2,_3) <= 1 Integer\n",
      "0 <= x_(2,_4) <= 1 Integer\n",
      "0 <= x_(2,_5) <= 1 Integer\n",
      "0 <= x_(2,_6) <= 1 Integer\n",
      "0 <= x_(3,_0) <= 1 Integer\n",
      "0 <= x_(3,_1) <= 1 Integer\n",
      "0 <= x_(3,_2) <= 1 Integer\n",
      "0 <= x_(3,_4) <= 1 Integer\n",
      "0 <= x_(3,_5) <= 1 Integer\n",
      "0 <= x_(3,_6) <= 1 Integer\n",
      "0 <= x_(4,_0) <= 1 Integer\n",
      "0 <= x_(4,_1) <= 1 Integer\n",
      "0 <= x_(4,_2) <= 1 Integer\n",
      "0 <= x_(4,_3) <= 1 Integer\n",
      "0 <= x_(4,_5) <= 1 Integer\n",
      "0 <= x_(4,_6) <= 1 Integer\n",
      "0 <= x_(5,_0) <= 1 Integer\n",
      "0 <= x_(5,_1) <= 1 Integer\n",
      "0 <= x_(5,_2) <= 1 Integer\n",
      "0 <= x_(5,_3) <= 1 Integer\n",
      "0 <= x_(5,_4) <= 1 Integer\n",
      "0 <= x_(5,_6) <= 1 Integer\n",
      "0 <= x_(6,_0) <= 1 Integer\n",
      "0 <= x_(6,_1) <= 1 Integer\n",
      "0 <= x_(6,_2) <= 1 Integer\n",
      "0 <= x_(6,_3) <= 1 Integer\n",
      "0 <= x_(6,_4) <= 1 Integer\n",
      "0 <= x_(6,_5) <= 1 Integer\n",
      "\n"
     ]
    }
   ],
   "source": [
    "\n",
    "for j in range(n):\n",
    "    tsp += lpSum([x[i,j] for (i,m) in arcos if m==j]) == 1\n",
    "\n",
    "\n",
    "print(tsp)"
   ]
  },
  {
   "cell_type": "code",
   "execution_count": 176,
   "metadata": {},
   "outputs": [],
   "source": [
    "for i in range(n):\n",
    "    tsp += lpSum([x[i,j] for (m,j) in arcos if m == i]) == 1"
   ]
  },
  {
   "cell_type": "code",
   "execution_count": 177,
   "metadata": {},
   "outputs": [],
   "source": [
    "for i in range(n):\n",
    "    tsp += lpSum([x[i,j] for (m,j) in arcos if m == i]) == 1"
   ]
  },
  {
   "cell_type": "code",
   "execution_count": 178,
   "metadata": {},
   "outputs": [],
   "source": [
    "for (i,j) in arcos:\n",
    "    if i > 0 and i != j:\n",
    "        tsp += u[i] - u[j] + n * x[i,j] <= n-1"
   ]
  },
  {
   "cell_type": "code",
   "execution_count": 179,
   "metadata": {},
   "outputs": [],
   "source": [
    "resolver_modelo = tsp.solve()"
   ]
  },
  {
   "cell_type": "code",
   "execution_count": 180,
   "metadata": {},
   "outputs": [
    {
     "name": "stdout",
     "output_type": "stream",
     "text": [
      "Status do problema:Optimal\n"
     ]
    }
   ],
   "source": [
    "print(f\"Status do problema:{LpStatus[resolver_modelo]}\")"
   ]
  },
  {
   "cell_type": "code",
   "execution_count": 181,
   "metadata": {},
   "outputs": [
    {
     "name": "stdout",
     "output_type": "stream",
     "text": [
      "u_0 = 7.0\n",
      "u_1 = 1.0\n",
      "u_2 = 6.0\n",
      "u_3 = 2.0\n",
      "u_4 = 4.0\n",
      "u_5 = 5.0\n",
      "u_6 = 3.0\n",
      "x_(0,_1) = 1.0\n",
      "x_(1,_3) = 1.0\n",
      "x_(2,_0) = 1.0\n",
      "x_(3,_6) = 1.0\n",
      "x_(4,_5) = 1.0\n",
      "x_(5,_2) = 1.0\n",
      "x_(6,_4) = 1.0\n"
     ]
    }
   ],
   "source": [
    "for var in tsp.variables():\n",
    "    if var.varValue > 0:\n",
    "        print(f\"{var.name} = {var.varValue}\")"
   ]
  },
  {
   "cell_type": "code",
   "execution_count": 182,
   "metadata": {},
   "outputs": [
    {
     "name": "stdout",
     "output_type": "stream",
     "text": [
      "Tempo total = 6.91\n"
     ]
    }
   ],
   "source": [
    "print(f\"Tempo total = {value(tsp.objective)}\")"
   ]
  }
 ],
 "metadata": {
  "kernelspec": {
   "display_name": ".venv",
   "language": "python",
   "name": "python3"
  },
  "language_info": {
   "codemirror_mode": {
    "name": "ipython",
    "version": 3
   },
   "file_extension": ".py",
   "mimetype": "text/x-python",
   "name": "python",
   "nbconvert_exporter": "python",
   "pygments_lexer": "ipython3",
   "version": "3.12.4"
  }
 },
 "nbformat": 4,
 "nbformat_minor": 2
}
